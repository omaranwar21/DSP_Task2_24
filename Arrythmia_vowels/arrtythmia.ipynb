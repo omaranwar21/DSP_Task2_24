{
 "cells": [
  {
   "cell_type": "code",
   "execution_count": 213,
   "id": "a9724060",
   "metadata": {},
   "outputs": [],
   "source": [
    "from scipy.fft import rfft,irfft, rfftfreq\n",
    "import numpy as np\n",
    "import wave\n",
    "import pandas as pd\n",
    "import sys\n",
    "import matplotlib.pyplot as plt\n",
    "import librosa\n",
    "import IPython.display as ipd\n",
    "from IPython.display import Audio\n"
   ]
  },
  {
   "cell_type": "code",
   "execution_count": 214,
   "id": "645b05ca",
   "metadata": {},
   "outputs": [
    {
     "data": {
      "text/html": [
       "<div>\n",
       "<style scoped>\n",
       "    .dataframe tbody tr th:only-of-type {\n",
       "        vertical-align: middle;\n",
       "    }\n",
       "\n",
       "    .dataframe tbody tr th {\n",
       "        vertical-align: top;\n",
       "    }\n",
       "\n",
       "    .dataframe thead th {\n",
       "        text-align: right;\n",
       "    }\n",
       "</style>\n",
       "<table border=\"1\" class=\"dataframe\">\n",
       "  <thead>\n",
       "    <tr style=\"text-align: right;\">\n",
       "      <th></th>\n",
       "      <th>time</th>\n",
       "      <th>values</th>\n",
       "      <th>-0.245</th>\n",
       "    </tr>\n",
       "  </thead>\n",
       "  <tbody>\n",
       "    <tr>\n",
       "      <th>0</th>\n",
       "      <td>0.002778</td>\n",
       "      <td>-0.030747</td>\n",
       "      <td>-0.215</td>\n",
       "    </tr>\n",
       "    <tr>\n",
       "      <th>1</th>\n",
       "      <td>0.005556</td>\n",
       "      <td>-0.129033</td>\n",
       "      <td>-0.185</td>\n",
       "    </tr>\n",
       "    <tr>\n",
       "      <th>2</th>\n",
       "      <td>0.008333</td>\n",
       "      <td>-0.262771</td>\n",
       "      <td>-0.175</td>\n",
       "    </tr>\n",
       "    <tr>\n",
       "      <th>3</th>\n",
       "      <td>0.011111</td>\n",
       "      <td>0.002566</td>\n",
       "      <td>-0.170</td>\n",
       "    </tr>\n",
       "    <tr>\n",
       "      <th>4</th>\n",
       "      <td>0.013889</td>\n",
       "      <td>-0.121156</td>\n",
       "      <td>-0.170</td>\n",
       "    </tr>\n",
       "    <tr>\n",
       "      <th>...</th>\n",
       "      <td>...</td>\n",
       "      <td>...</td>\n",
       "      <td>...</td>\n",
       "    </tr>\n",
       "    <tr>\n",
       "      <th>394</th>\n",
       "      <td>1.097222</td>\n",
       "      <td>-0.225745</td>\n",
       "      <td>-0.290</td>\n",
       "    </tr>\n",
       "    <tr>\n",
       "      <th>395</th>\n",
       "      <td>1.100000</td>\n",
       "      <td>-0.284320</td>\n",
       "      <td>-0.295</td>\n",
       "    </tr>\n",
       "    <tr>\n",
       "      <th>396</th>\n",
       "      <td>1.102778</td>\n",
       "      <td>-0.274706</td>\n",
       "      <td>-0.285</td>\n",
       "    </tr>\n",
       "    <tr>\n",
       "      <th>397</th>\n",
       "      <td>1.105556</td>\n",
       "      <td>-0.116293</td>\n",
       "      <td>-0.275</td>\n",
       "    </tr>\n",
       "    <tr>\n",
       "      <th>398</th>\n",
       "      <td>1.108333</td>\n",
       "      <td>-0.256068</td>\n",
       "      <td>0.000</td>\n",
       "    </tr>\n",
       "  </tbody>\n",
       "</table>\n",
       "<p>399 rows × 3 columns</p>\n",
       "</div>"
      ],
      "text/plain": [
       "         time    values  -0.245\n",
       "0    0.002778 -0.030747  -0.215\n",
       "1    0.005556 -0.129033  -0.185\n",
       "2    0.008333 -0.262771  -0.175\n",
       "3    0.011111  0.002566  -0.170\n",
       "4    0.013889 -0.121156  -0.170\n",
       "..        ...       ...     ...\n",
       "394  1.097222 -0.225745  -0.290\n",
       "395  1.100000 -0.284320  -0.295\n",
       "396  1.102778 -0.274706  -0.285\n",
       "397  1.105556 -0.116293  -0.275\n",
       "398  1.108333 -0.256068   0.000\n",
       "\n",
       "[399 rows x 3 columns]"
      ]
     },
     "execution_count": 214,
     "metadata": {},
     "output_type": "execute_result"
    }
   ],
   "source": [
    "data=pd.read_csv(\"ECG.csv\")\n",
    "data"
   ]
  },
  {
   "cell_type": "code",
   "execution_count": 215,
   "id": "ecbeb9da",
   "metadata": {},
   "outputs": [
    {
     "data": {
      "text/plain": [
       "0     -0.030747\n",
       "1     -0.129033\n",
       "2     -0.262771\n",
       "3      0.002566\n",
       "4     -0.121156\n",
       "         ...   \n",
       "394   -0.225745\n",
       "395   -0.284320\n",
       "396   -0.274706\n",
       "397   -0.116293\n",
       "398   -0.256068\n",
       "Name: values, Length: 399, dtype: float64"
      ]
     },
     "execution_count": 215,
     "metadata": {},
     "output_type": "execute_result"
    }
   ],
   "source": [
    "y=data['values']\n",
    "y"
   ]
  },
  {
   "cell_type": "code",
   "execution_count": 216,
   "id": "0afc2d56",
   "metadata": {},
   "outputs": [
    {
     "data": {
      "text/plain": [
       "0      0.002778\n",
       "1      0.005556\n",
       "2      0.008333\n",
       "3      0.011111\n",
       "4      0.013889\n",
       "         ...   \n",
       "394    1.097222\n",
       "395    1.100000\n",
       "396    1.102778\n",
       "397    1.105556\n",
       "398    1.108333\n",
       "Name: time, Length: 399, dtype: float64"
      ]
     },
     "execution_count": 216,
     "metadata": {},
     "output_type": "execute_result"
    }
   ],
   "source": [
    "x=data['time']\n",
    "x"
   ]
  },
  {
   "cell_type": "code",
   "execution_count": 217,
   "id": "ee07e3cb",
   "metadata": {},
   "outputs": [
    {
     "data": {
      "text/plain": [
       "[<matplotlib.lines.Line2D at 0x1b01e784a30>]"
      ]
     },
     "execution_count": 217,
     "metadata": {},
     "output_type": "execute_result"
    },
    {
     "data": {
      "image/png": "[encoded data removed]",
      "text/plain": [
       "<Figure size 432x288 with 1 Axes>"
      ]
     },
     "metadata": {
      "needs_background": "light"
     },
     "output_type": "display_data"
    }
   ],
   "source": [
    "plt.plot(x,y)"
   ]
  },
  {
   "cell_type": "code",
   "execution_count": 218,
   "id": "c5260fe5",
   "metadata": {},
   "outputs": [],
   "source": [
    "y_sig= np.fft.rfft(y)"
   ]
  },
  {
   "cell_type": "code",
   "execution_count": 219,
   "id": "57677c83",
   "metadata": {},
   "outputs": [],
   "source": [
    "sampling_rate=len(y)"
   ]
  },
  {
   "cell_type": "code",
   "execution_count": 220,
   "id": "271a74d3",
   "metadata": {},
   "outputs": [],
   "source": [
    "freq= rfftfreq(len(y),1/sampling_rate)"
   ]
  },
  {
   "cell_type": "code",
   "execution_count": 221,
   "id": "4601004c",
   "metadata": {},
   "outputs": [
    {
     "name": "stderr",
     "output_type": "stream",
     "text": [
      "C:\\Users\\DELL\\anaconda3\\lib\\site-packages\\matplotlib\\cbook\\__init__.py:1298: ComplexWarning: Casting complex values to real discards the imaginary part\n",
      "  return np.asarray(x, float)\n"
     ]
    },
    {
     "data": {
      "text/plain": [
       "[<matplotlib.lines.Line2D at 0x1b01e7e4ee0>]"
      ]
     },
     "execution_count": 221,
     "metadata": {},
     "output_type": "execute_result"
    },
    {
     "data": {
      "image/png": "[encoded data removed]",
      "text/plain": [
       "<Figure size 432x288 with 1 Axes>"
      ]
     },
     "metadata": {
      "needs_background": "light"
     },
     "output_type": "display_data"
    }
   ],
   "source": [
    "plt.plot(freq,y_sig)"
   ]
  },
  {
   "cell_type": "code",
   "execution_count": 222,
   "id": "9697661c",
   "metadata": {},
   "outputs": [],
   "source": [
    "condition=(freq>30)&(freq<200)\n",
    "\n",
    "y_sig[condition]=y_sig[condition]*0"
   ]
  },
  {
   "cell_type": "code",
   "execution_count": 223,
   "id": "acfc4c57",
   "metadata": {},
   "outputs": [
    {
     "name": "stderr",
     "output_type": "stream",
     "text": [
      "C:\\Users\\DELL\\anaconda3\\lib\\site-packages\\matplotlib\\cbook\\__init__.py:1298: ComplexWarning: Casting complex values to real discards the imaginary part\n",
      "  return np.asarray(x, float)\n"
     ]
    },
    {
     "data": {
      "text/plain": [
       "[<matplotlib.lines.Line2D at 0x1b01e84cca0>]"
      ]
     },
     "execution_count": 223,
     "metadata": {},
     "output_type": "execute_result"
    },
    {
     "data": {
      "image/png": "[encoded data removed]",
      "text/plain": [
       "<Figure size 432x288 with 1 Axes>"
      ]
     },
     "metadata": {
      "needs_background": "light"
     },
     "output_type": "display_data"
    }
   ],
   "source": [
    "plt.plot(freq,y_sig)"
   ]
  },
  {
   "cell_type": "markdown",
   "id": "4cc55096",
   "metadata": {},
   "source": [
    "x[i]>150"
   ]
  },
  {
   "cell_type": "code",
   "execution_count": 224,
   "id": "a9458b01",
   "metadata": {},
   "outputs": [],
   "source": [
    "y2=irfft(y_sig)"
   ]
  },
  {
   "cell_type": "code",
   "execution_count": 225,
   "id": "83bc8e3d",
   "metadata": {},
   "outputs": [],
   "source": [
    "x=x[0:len(y2)]"
   ]
  },
  {
   "cell_type": "code",
   "execution_count": 226,
   "id": "0b952efe",
   "metadata": {},
   "outputs": [
    {
     "data": {
      "text/plain": [
       "398"
      ]
     },
     "execution_count": 226,
     "metadata": {},
     "output_type": "execute_result"
    }
   ],
   "source": [
    "len(x)"
   ]
  },
  {
   "cell_type": "code",
   "execution_count": 227,
   "id": "9952311b",
   "metadata": {},
   "outputs": [
    {
     "data": {
      "text/plain": [
       "398"
      ]
     },
     "execution_count": 227,
     "metadata": {},
     "output_type": "execute_result"
    }
   ],
   "source": [
    "len(y2)"
   ]
  },
  {
   "cell_type": "code",
   "execution_count": 228,
   "id": "894b928d",
   "metadata": {},
   "outputs": [
    {
     "data": {
      "text/plain": [
       "[<matplotlib.lines.Line2D at 0x1b01e8bda60>]"
      ]
     },
     "execution_count": 228,
     "metadata": {},
     "output_type": "execute_result"
    },
    {
     "data": {
      "image/png": "[encoded data removed]",
      "text/plain": [
       "<Figure size 432x288 with 1 Axes>"
      ]
     },
     "metadata": {
      "needs_background": "light"
     },
     "output_type": "display_data"
    }
   ],
   "source": [
    "plt.plot(x,y2)"
   ]
  }
 ],
 "metadata": {
  "kernelspec": {
   "display_name": "Python 3 (ipykernel)",
   "language": "python",
   "name": "python3"
  },
  "language_info": {
   "codemirror_mode": {
    "name": "ipython",
    "version": 3
   },
   "file_extension": ".py",
   "mimetype": "text/x-python",
   "name": "python",
   "nbconvert_exporter": "python",
   "pygments_lexer": "ipython3",
   "version": "3.9.12"
  }
 },
 "nbformat": 4,
 "nbformat_minor": 5
}
